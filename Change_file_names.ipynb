{
 "cells": [
  {
   "cell_type": "code",
   "execution_count": 6,
   "id": "cceff2cd",
   "metadata": {},
   "outputs": [
    {
     "name": "stdout",
     "output_type": "stream",
     "text": [
      "Renamed IMG_9017_jpeg.rf.bdc5051ee73b103c357eb0bdce0cd3bc.jpg to IMG_9017_jpeg.rf.bdc5051ee73b103c357eb0bdce0cd3bc_rotated_180.jpg\n",
      "Renamed IMG_9032_jpeg.rf.e808ca2c2ae9ec403e8f4e06a435c8ee.jpg to IMG_9032_jpeg.rf.e808ca2c2ae9ec403e8f4e06a435c8ee_rotated_180.jpg\n",
      "Renamed IMG_9027_jpeg.rf.92fd2263bf8a4948ccceefc470dec304.jpg to IMG_9027_jpeg.rf.92fd2263bf8a4948ccceefc470dec304_rotated_180.jpg\n",
      "Renamed IMG_9024_jpeg.rf.644622c149b4b8fc8bb3db6cf60564d6.jpg to IMG_9024_jpeg.rf.644622c149b4b8fc8bb3db6cf60564d6_rotated_180.jpg\n",
      "Renamed IMG_9029_jpeg.rf.30ee73d1f230879d1d04a8129836cc9f.jpg to IMG_9029_jpeg.rf.30ee73d1f230879d1d04a8129836cc9f_rotated_180.jpg\n",
      "Renamed IMG_9022_jpeg.rf.f6acfbda15c451a1776103153b125153.jpg to IMG_9022_jpeg.rf.f6acfbda15c451a1776103153b125153_rotated_180.jpg\n",
      "Renamed IMG_9019_jpeg.rf.77edbe83246ad80bb1aefc2300f43b54.jpg to IMG_9019_jpeg.rf.77edbe83246ad80bb1aefc2300f43b54_rotated_180.jpg\n",
      "Renamed IMG_9023_jpeg.rf.0d723fb0c8f3934af3300e31e6c344b9.jpg to IMG_9023_jpeg.rf.0d723fb0c8f3934af3300e31e6c344b9_rotated_180.jpg\n",
      "Renamed IMG_9016_jpeg.rf.2bb527d9238de39ba077acc0d7f3d351.jpg to IMG_9016_jpeg.rf.2bb527d9238de39ba077acc0d7f3d351_rotated_180.jpg\n",
      "Renamed IMG_9033_jpeg.rf.6bba362bf65c5886578e00fbbefdb286.jpg to IMG_9033_jpeg.rf.6bba362bf65c5886578e00fbbefdb286_rotated_180.jpg\n",
      "Renamed IMG_9025_jpeg.rf.530ce873423cce1a595d0a303fe687c9.jpg to IMG_9025_jpeg.rf.530ce873423cce1a595d0a303fe687c9_rotated_180.jpg\n",
      "Renamed IMG_9018_jpeg.rf.a7a453dd590d1444500b837eeb57468f.jpg to IMG_9018_jpeg.rf.a7a453dd590d1444500b837eeb57468f_rotated_180.jpg\n",
      "Renamed IMG_9020_jpeg.rf.028ba46942b99bfca906ec51ad8cb72c.jpg to IMG_9020_jpeg.rf.028ba46942b99bfca906ec51ad8cb72c_rotated_180.jpg\n",
      "Renamed IMG_9028_jpeg.rf.54d9a6aa0741ace8009110c8b10412e2.jpg to IMG_9028_jpeg.rf.54d9a6aa0741ace8009110c8b10412e2_rotated_180.jpg\n",
      "Renamed IMG_9021_jpeg.rf.497a1532bcaa54e371d2d01b441407e2.jpg to IMG_9021_jpeg.rf.497a1532bcaa54e371d2d01b441407e2_rotated_180.jpg\n",
      "Renamed IMG_9026_jpeg.rf.c2456cea3e696b5c33b06b6839810d50.jpg to IMG_9026_jpeg.rf.c2456cea3e696b5c33b06b6839810d50_rotated_180.jpg\n",
      "Renamed IMG_9014_jpeg.rf.75ad588362871eed4af9d6ba9388740d.jpg to IMG_9014_jpeg.rf.75ad588362871eed4af9d6ba9388740d_rotated_180.jpg\n",
      "Renamed IMG_9015_jpeg.rf.51764d5b1f89c274bf1e26b591e2be07.jpg to IMG_9015_jpeg.rf.51764d5b1f89c274bf1e26b591e2be07_rotated_180.jpg\n",
      "Renamed IMG_9031_jpeg.rf.537e2f2309dda5a884728ce1243492ed.jpg to IMG_9031_jpeg.rf.537e2f2309dda5a884728ce1243492ed_rotated_180.jpg\n",
      "Renamed IMG_9030_jpeg.rf.cbe652cc6bb29f6d61e6f8039579a75e.jpg to IMG_9030_jpeg.rf.cbe652cc6bb29f6d61e6f8039579a75e_rotated_180.jpg\n"
     ]
    }
   ],
   "source": [
    "##########################################\n",
    "# How to change the file name\n",
    "##########################################\n",
    "\n",
    "# Change path to the folder containing your images\n",
    "# Adjust extensions so it says by how many degrees the image is rotated\n",
    "# Clear output, run.\n",
    "\n",
    "import os\n",
    "\n",
    "# 4_rotated/4N_Test/labels\n",
    "########### Change path to the folder containing your images ###########\n",
    "folder_path = '/Users/lewishall/Desktop/Masters Project Data Sets/4_rotated/4N_Test_180/images'\n",
    "\n",
    "# List all files in the folder\n",
    "files = os.listdir(folder_path)\n",
    "\n",
    "# Loop through each file and rename it\n",
    "for index, filename in enumerate(files):\n",
    "    # Check if the file is an image (optional)\n",
    "    if filename.endswith(('.png', '.jpg', '.jpeg', '.bmp', '.gif', '.txt')):\n",
    "        # New name format\n",
    "        # new_name = f\"new_image_{index + 1}.jpg\"  # Adjust extension if needed\n",
    "\n",
    "        ########### Adjust extensions so it says by how many degrees the image is rotated ###########\n",
    "        new_name = filename.replace(\".jpg\", \"_rotated_180.jpg\")\n",
    "        # Full path for original and new file\n",
    "        src = os.path.join(folder_path, filename)\n",
    "        dst = os.path.join(folder_path, new_name)\n",
    "        \n",
    "        # Rename the file\n",
    "        os.rename(src, dst)\n",
    "        print(f'Renamed {filename} to {new_name}')"
   ]
  },
  {
   "cell_type": "code",
   "execution_count": null,
   "id": "e0a8b57f",
   "metadata": {},
   "outputs": [],
   "source": []
  }
 ],
 "metadata": {
  "kernelspec": {
   "display_name": "base",
   "language": "python",
   "name": "python3"
  },
  "language_info": {
   "codemirror_mode": {
    "name": "ipython",
    "version": 3
   },
   "file_extension": ".py",
   "mimetype": "text/x-python",
   "name": "python",
   "nbconvert_exporter": "python",
   "pygments_lexer": "ipython3",
   "version": "3.12.7"
  }
 },
 "nbformat": 4,
 "nbformat_minor": 5
}

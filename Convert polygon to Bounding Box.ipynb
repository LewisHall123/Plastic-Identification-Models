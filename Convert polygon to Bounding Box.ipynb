{
 "cells": [
  {
   "cell_type": "code",
   "execution_count": 3,
   "id": "9175f15a",
   "metadata": {},
   "outputs": [
    {
     "name": "stdout",
     "output_type": "stream",
     "text": [
      "Conversion complete! Check the 'detection_labels' folder.\n"
     ]
    }
   ],
   "source": [
    "import os\n",
    "import glob\n",
    "\n",
    "# This code changes the YOLO bounding box labels from polygon format to cubic, (5 labels to 4 labels).\n",
    "# Define input and output directories\n",
    "#input_label_dir = '/Users/lewishall/Desktop/'  # Folder containing segmentation labels\n",
    "#output_label_dir = '/Users/lewishall/Desktop/'  # Folder to save converted labels\n",
    "\n",
    "# Ensure output directory exists\n",
    "os.makedirs(output_label_dir, exist_ok=True)\n",
    "\n",
    "# Get all label files\n",
    "# glob.glob() searches for files that match a given pattern. And therefore \n",
    "# returns a list of filenames that match this pattern.\n",
    "label_files = glob.glob(os.path.join(input_label_dir, \"*.txt\"))\n",
    "\n",
    "def convert_segmentation_to_bbox(seg_label_file, det_label_file):\n",
    "    with open(seg_label_file, \"r\") as f:\n",
    "        lines = f.readlines()\n",
    "    \n",
    "    converted_labels = []\n",
    "    \n",
    "    for line in lines:\n",
    "        # map applies float to every element in line.strip().split()\n",
    "        # making them all floats\n",
    "        # list converts all these float values into a list stored in values\n",
    "        values = list(map(float, line.strip().split()))\n",
    "        \n",
    "        # This takes the first value in list values, converts it to an int, stores it in class_id\n",
    "        class_id = int(values[0])\n",
    "        \n",
    "        # values[1:] takes all the numbers in values apart from the first one\n",
    "        points = values[1:]  # Polygon points (x1, y1, x2, y2, ..., xn, yn)\n",
    "        \n",
    "        # Extract min/max coordinates for bounding box\n",
    "        # Python slicing works as list[start:end:step]\n",
    "        x_coords = points[0::2]  # Extract all x values\n",
    "        y_coords = points[1::2]  # Extract all y values\n",
    "\n",
    "        x_min, x_max = min(x_coords), max(x_coords)\n",
    "        y_min, y_max = min(y_coords), max(y_coords)\n",
    "\n",
    "        # Convert to YOLO format: x_center, y_center, width, height (normalized)\n",
    "        x_center = (x_min + x_max) / 2\n",
    "        y_center = (y_min + y_max) / 2\n",
    "        width = x_max - x_min\n",
    "        height = y_max - y_min\n",
    "\n",
    "        # Store converted label\n",
    "        converted_labels.append(f\"{class_id} {x_center} {y_center} {width} {height}\\n\")\n",
    "\n",
    "    # Save new detection label file\n",
    "    with open(det_label_file, \"w\") as f:\n",
    "        f.writelines(converted_labels)\n",
    "\n",
    "# Process all label files\n",
    "# seg_label_file will take on the value of each segmentation label file path \n",
    "# in label_files during each iteration.\n",
    "for seg_label_file in label_files:\n",
    "    filename = os.path.basename(seg_label_file)\n",
    "    det_label_file = os.path.join(output_label_dir, filename)\n",
    "    convert_segmentation_to_bbox(seg_label_file, det_label_file)\n",
    "\n",
    "print(\"Conversion complete! Check the 'detection_labels' folder.\")"
   ]
  },
  {
   "cell_type": "code",
   "execution_count": null,
   "id": "4caab4a8",
   "metadata": {},
   "outputs": [],
   "source": []
  }
 ],
 "metadata": {
  "kernelspec": {
   "display_name": "Python [conda env:base] *",
   "language": "python",
   "name": "conda-base-py"
  },
  "language_info": {
   "codemirror_mode": {
    "name": "ipython",
    "version": 3
   },
   "file_extension": ".py",
   "mimetype": "text/x-python",
   "name": "python",
   "nbconvert_exporter": "python",
   "pygments_lexer": "ipython3",
   "version": "3.12.7"
  }
 },
 "nbformat": 4,
 "nbformat_minor": 5
}

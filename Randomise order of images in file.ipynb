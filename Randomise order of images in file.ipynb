{
 "cells": [
  {
   "cell_type": "code",
   "execution_count": 2,
   "id": "3d7d61e2",
   "metadata": {},
   "outputs": [
    {
     "name": "stdout",
     "output_type": "stream",
     "text": [
      "100 images selected, copied, and duplicated successfully!\n"
     ]
    }
   ],
   "source": [
    "import os\n",
    "import random\n",
    "import shutil\n",
    "\n",
    "# Define paths\n",
    "source_folder = '/Users/lewishall/Desktop/Duplicate of training data'\n",
    "destination_folder = '/Users/lewishall/Desktop/Train_1st_100_HDPE'\n",
    "\n",
    "# Ensure destination folder exists\n",
    "os.makedirs(destination_folder, exist_ok=True)\n",
    "\n",
    "# Get list of all images\n",
    "images = [f for f in os.listdir(source_folder) if f.lower().endswith(('.png', '.jpg', '.jpeg'))]\n",
    "\n",
    "# Randomly select 100 images\n",
    "selected_images = random.sample(images, 100)\n",
    "\n",
    "# Copy and duplicate images\n",
    "for image in selected_images:\n",
    "    source_path = os.path.join(source_folder, image)\n",
    "    destination_path = os.path.join(destination_folder, image)\n",
    "    \n",
    "    # Copy original image\n",
    "    shutil.copy2(source_path, destination_path)\n",
    "\n",
    "print(\"100 images selected, copied, and duplicated successfully!\")"
   ]
  },
  {
   "cell_type": "code",
   "execution_count": null,
   "id": "698e2a16",
   "metadata": {},
   "outputs": [],
   "source": []
  }
 ],
 "metadata": {
  "kernelspec": {
   "display_name": "Python 3 (ipykernel)",
   "language": "python",
   "name": "python3"
  },
  "language_info": {
   "codemirror_mode": {
    "name": "ipython",
    "version": 3
   },
   "file_extension": ".py",
   "mimetype": "text/x-python",
   "name": "python",
   "nbconvert_exporter": "python",
   "pygments_lexer": "ipython3",
   "version": "3.9.7"
  }
 },
 "nbformat": 4,
 "nbformat_minor": 5
}

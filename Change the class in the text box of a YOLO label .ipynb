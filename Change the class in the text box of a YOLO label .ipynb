{
 "cells": [
  {
   "cell_type": "code",
   "execution_count": null,
   "id": "84c7b0ac",
   "metadata": {},
   "outputs": [
    {
     "name": "stdout",
     "output_type": "stream",
     "text": [
      "Labels updated successfully!\n"
     ]
    }
   ],
   "source": [
    "# This code changes the class label in the .txt file used to store the labels for a YOLOv8 dataset. \n",
    "# It changes the class label from whatever it is to '2' for all labels in the specified folder.\n",
    "\n",
    "import os\n",
    "\n",
    "# Path to your labels folder\n",
    "labels_folder = '/Users/lewishall/Desktop/Masters Project Data Sets/4_rotated/4_Test_3xHDPE_rotated_180/labels'\n",
    "\n",
    "# Loop through all label files in the folder\n",
    "for filename in os.listdir(labels_folder):\n",
    "    if filename.endswith('.txt'):  # Only process .txt files\n",
    "        \n",
    "        # Create the full file path for the label file\n",
    "        file_path = os.path.join(labels_folder, filename)\n",
    "\n",
    "        # Open the label file and read its contents\n",
    "        with open(file_path, 'r') as file:\n",
    "            lines = file.readlines()\n",
    "        \n",
    "        # Modify each line to replace '0' with '2' and ensure correct spacing\n",
    "        new_lines = ['2 ' + line[2:].lstrip() for line in lines]  \n",
    "\n",
    "        # Write the modified lines back to the file\n",
    "        with open(file_path, 'w') as file:\n",
    "            file.writelines(new_lines)\n",
    "\n",
    "print(\"Labels updated successfully!\")"
   ]
  },
  {
   "cell_type": "code",
   "execution_count": null,
   "id": "e0c417af",
   "metadata": {},
   "outputs": [
    {
     "name": "stdout",
     "output_type": "stream",
     "text": [
      "Labels updated successfully!\n"
     ]
    }
   ],
   "source": [
    "# This code changes the class label in the .txt file used to store the labels for a YOLOv8 dataset.\n",
    "# 1. Change file path\n",
    "# 2. Change the class id and new class for all three\n",
    "\n",
    "\n",
    "import os\n",
    "\n",
    "# 4_Test_PET,PP+3xHDPE\n",
    "# 4_Test_PET,PP+3xHDPE_rotated_180\n",
    "# Path to your labels folder\n",
    "\n",
    "######## 1. Change file path ########\n",
    "# labels_folder = '/Users/lewishall/Desktop/Masters Project Data Sets/4_rotated/4N_Test/labels'\n",
    "\n",
    "# Loop through all label files in the folder\n",
    "for filename in os.listdir(labels_folder):\n",
    "    if filename.endswith('.txt'):  # Only process .txt files\n",
    "        \n",
    "        file_path = os.path.join(labels_folder, filename)\n",
    "\n",
    "        # Open the label file and read its contents\n",
    "        with open(file_path, 'r') as file:\n",
    "            lines = file.readlines()\n",
    "\n",
    "        # Prepare a list to store modified lines\n",
    "        new_lines = []\n",
    "\n",
    "        for line in lines:\n",
    "            line = line.strip()  # Remove any trailing newline or spaces\n",
    "\n",
    "            if not line:\n",
    "                continue  # Skip empty lines\n",
    "\n",
    "            # Split line into parts to isolate class index and coordinates\n",
    "            parts = line.split()\n",
    "            if not parts:\n",
    "                continue\n",
    "\n",
    "            class_id = parts[0]\n",
    "            coords = parts[1:]\n",
    "\n",
    "            ######## 2. Change the class id and new class for all three ########\n",
    "\n",
    "            if class_id == '0':\n",
    "                new_class = '2'\n",
    "            elif class_id == '1':\n",
    "                new_class = '0'\n",
    "            elif class_id == '2':\n",
    "                new_class = '1'\n",
    "            else:\n",
    "                new_class = class_id  # Keep unchanged if it's neither 0 nor 1\n",
    "\n",
    "            # Reconstruct the line and add a newline character\n",
    "            new_line = ' '.join([new_class] + coords) + '\\n'\n",
    "            new_lines.append(new_line)\n",
    "\n",
    "        # Write the modified lines back to the file\n",
    "        with open(file_path, 'w') as file:\n",
    "            file.writelines(new_lines)\n",
    "\n",
    "print(\"Labels updated successfully!\")"
   ]
  }
 ],
 "metadata": {
  "kernelspec": {
   "display_name": "base",
   "language": "python",
   "name": "python3"
  },
  "language_info": {
   "codemirror_mode": {
    "name": "ipython",
    "version": 3
   },
   "file_extension": ".py",
   "mimetype": "text/x-python",
   "name": "python",
   "nbconvert_exporter": "python",
   "pygments_lexer": "ipython3",
   "version": "3.12.7"
  }
 },
 "nbformat": 4,
 "nbformat_minor": 5
}

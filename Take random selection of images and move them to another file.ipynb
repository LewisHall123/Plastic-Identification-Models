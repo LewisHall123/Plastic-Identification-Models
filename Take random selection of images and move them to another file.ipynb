{
 "cells": [
  {
   "cell_type": "code",
   "execution_count": 2,
   "id": "03e5c848",
   "metadata": {},
   "outputs": [
    {
     "name": "stdout",
     "output_type": "stream",
     "text": [
      "Images moved successfully! The original folder now contains 500 images.\n"
     ]
    }
   ],
   "source": [
    "import os\n",
    "import random\n",
    "import shutil\n",
    "\n",
    "# Define paths\n",
    "source_folder = '/Users/lewishall/Desktop/annas training img copy'\n",
    "destination_folder = '/Users/lewishall/Desktop/One_half_of_Annas_training_images_1'\n",
    "\n",
    "# Ensure destination folder exists\n",
    "os.makedirs(destination_folder, exist_ok=True)\n",
    "\n",
    "# Get list of all images\n",
    "images = [f for f in os.listdir(source_folder) if f.lower().endswith(('.png', '.jpg', '.jpeg'))]\n",
    "\n",
    "# Randomly select 100 images\n",
    "selected_images = random.sample(images, 720)\n",
    "\n",
    "# Move selected images to the new folder\n",
    "for image in selected_images:\n",
    "    source_path = os.path.join(source_folder, image)\n",
    "    destination_path = os.path.join(destination_folder, image)\n",
    "    \n",
    "    shutil.move(source_path, destination_path)  # Move the image (removes from original folder)\n",
    "\n",
    "print(\"Images moved successfully! The original folder now contains 500 images.\")"
   ]
  },
  {
   "cell_type": "code",
   "execution_count": null,
   "id": "5f9ee6c7",
   "metadata": {},
   "outputs": [],
   "source": []
  }
 ],
 "metadata": {
  "kernelspec": {
   "display_name": "Python [conda env:base] *",
   "language": "python",
   "name": "conda-base-py"
  },
  "language_info": {
   "codemirror_mode": {
    "name": "ipython",
    "version": 3
   },
   "file_extension": ".py",
   "mimetype": "text/x-python",
   "name": "python",
   "nbconvert_exporter": "python",
   "pygments_lexer": "ipython3",
   "version": "3.12.7"
  }
 },
 "nbformat": 4,
 "nbformat_minor": 5
}
